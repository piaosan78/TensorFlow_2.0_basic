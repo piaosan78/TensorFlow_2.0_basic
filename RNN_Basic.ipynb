{
  "nbformat": 4,
  "nbformat_minor": 0,
  "metadata": {
    "colab": {
      "provenance": [],
      "machine_shape": "hm",
      "gpuType": "T4",
      "authorship_tag": "ABX9TyPvEnMSeVGWXiM+YD92qbFk",
      "include_colab_link": true
    },
    "kernelspec": {
      "name": "python3",
      "display_name": "Python 3"
    },
    "language_info": {
      "name": "python"
    },
    "accelerator": "GPU"
  },
  "cells": [
    {
      "cell_type": "markdown",
      "metadata": {
        "id": "view-in-github",
        "colab_type": "text"
      },
      "source": [
        "<a href=\"https://colab.research.google.com/github/piaosan78/TensorFlow_2.0_basic/blob/main/RNN_Basic.ipynb\" target=\"_parent\"><img src=\"https://colab.research.google.com/assets/colab-badge.svg\" alt=\"Open In Colab\"/></a>"
      ]
    },
    {
      "cell_type": "markdown",
      "source": [
        "## 라이브러리 불러오기"
      ],
      "metadata": {
        "id": "Q5zNWQpfWdNI"
      }
    },
    {
      "cell_type": "code",
      "execution_count": 2,
      "metadata": {
        "id": "Ff_YhpBtWbCD"
      },
      "outputs": [],
      "source": [
        "import tensorflow as tf\n",
        "import numpy as np\n",
        "from tensorflow.keras.datasets import imdb\n"
      ]
    },
    {
      "cell_type": "markdown",
      "source": [
        "## 데이터 전처리"
      ],
      "metadata": {
        "id": "TzvdE1Y8YlPi"
      }
    },
    {
      "cell_type": "markdown",
      "source": [
        "1. 파라미터 사전 세팅"
      ],
      "metadata": {
        "id": "VDR4Vuo6YnzI"
      }
    },
    {
      "cell_type": "code",
      "source": [
        "number_of_words = 20000\n",
        "max_len = 100"
      ],
      "metadata": {
        "id": "3mjZ-fRNYiEY"
      },
      "execution_count": 4,
      "outputs": []
    },
    {
      "cell_type": "markdown",
      "source": [
        "2. imdb 데이터셋 분할"
      ],
      "metadata": {
        "id": "HxCBOiubZKIQ"
      }
    },
    {
      "cell_type": "code",
      "source": [
        "(X_train, y_train), (X_test, y_test) = imdb.load_data(num_words = number_of_words)"
      ],
      "metadata": {
        "colab": {
          "base_uri": "https://localhost:8080/"
        },
        "id": "Bzr_R_FbZMty",
        "outputId": "4989cf2d-3df4-40ab-e014-48eeeca3b7d2"
      },
      "execution_count": 7,
      "outputs": [
        {
          "output_type": "stream",
          "name": "stdout",
          "text": [
            "Downloading data from https://storage.googleapis.com/tensorflow/tf-keras-datasets/imdb.npz\n",
            "17464789/17464789 [==============================] - 0s 0us/step\n"
          ]
        }
      ]
    },
    {
      "cell_type": "code",
      "source": [
        "print(X_train.shape, y_train.shape)\n",
        "print(X_test.shape, y_test.shape)"
      ],
      "metadata": {
        "colab": {
          "base_uri": "https://localhost:8080/"
        },
        "id": "h7sz9mhQZeW7",
        "outputId": "54f752b7-b35a-465d-e4d3-2ae63ebfb10b"
      },
      "execution_count": 10,
      "outputs": [
        {
          "output_type": "stream",
          "name": "stdout",
          "text": [
            "(25000,) (25000,)\n",
            "(25000,) (25000,)\n"
          ]
        }
      ]
    },
    {
      "cell_type": "markdown",
      "source": [
        "3. 길이가 다른 시퀀스를 동일한 길이로 만들어주기"
      ],
      "metadata": {
        "id": "3tFnvvojaM5r"
      }
    },
    {
      "cell_type": "code",
      "source": [
        "X_train_pad = tf.keras.preprocessing.sequence.pad_sequences(X_train, maxlen = max_len)\n",
        "X_test_pad = tf.keras.preprocessing.sequence.pad_sequences(X_test, maxlen = max_len)"
      ],
      "metadata": {
        "id": "k9PnaMZ_abYf"
      },
      "execution_count": 12,
      "outputs": []
    },
    {
      "cell_type": "code",
      "source": [
        "X_train_pad"
      ],
      "metadata": {
        "colab": {
          "base_uri": "https://localhost:8080/"
        },
        "id": "5goV99CSbBu0",
        "outputId": "78b02246-83f0-493d-f6a1-cb6443afdbe7"
      },
      "execution_count": 13,
      "outputs": [
        {
          "output_type": "execute_result",
          "data": {
            "text/plain": [
              "array([[1415,   33,    6, ...,   19,  178,   32],\n",
              "       [ 163,   11, 3215, ...,   16,  145,   95],\n",
              "       [1301,    4, 1873, ...,    7,  129,  113],\n",
              "       ...,\n",
              "       [  11,    6, 4065, ...,    4, 3586,    2],\n",
              "       [ 100, 2198,    8, ...,   12,    9,   23],\n",
              "       [  78, 1099,   17, ...,  204,  131,    9]], dtype=int32)"
            ]
          },
          "metadata": {},
          "execution_count": 13
        }
      ]
    },
    {
      "cell_type": "markdown",
      "source": [
        "4. 임베디드 레이어 파라미터 설정"
      ],
      "metadata": {
        "id": "LGVHyriVbKhK"
      }
    },
    {
      "cell_type": "code",
      "source": [
        "vocab_size = number_of_words\n",
        "vocab_size"
      ],
      "metadata": {
        "colab": {
          "base_uri": "https://localhost:8080/"
        },
        "id": "kpXA2Ty9bI_a",
        "outputId": "787472ae-c7b1-40c7-ff52-ff94475d65ff"
      },
      "execution_count": 14,
      "outputs": [
        {
          "output_type": "execute_result",
          "data": {
            "text/plain": [
              "20000"
            ]
          },
          "metadata": {},
          "execution_count": 14
        }
      ]
    },
    {
      "cell_type": "code",
      "source": [
        "embed_size = 128"
      ],
      "metadata": {
        "id": "zcyu7EE7bV85"
      },
      "execution_count": 18,
      "outputs": []
    },
    {
      "cell_type": "markdown",
      "source": [
        "## RNN구축하기"
      ],
      "metadata": {
        "id": "Temw3nlhbZvm"
      }
    },
    {
      "cell_type": "code",
      "source": [
        "model = tf.keras.Sequential()"
      ],
      "metadata": {
        "id": "bsBg7pyFbc_4"
      },
      "execution_count": 16,
      "outputs": []
    },
    {
      "cell_type": "code",
      "source": [
        "model.add(tf.keras.layers.Embedding(vocab_size, embed_size, input_shape=(X_train_pad.shape[1],)))"
      ],
      "metadata": {
        "id": "tVtN1hGzdsLe"
      },
      "execution_count": 20,
      "outputs": []
    },
    {
      "cell_type": "code",
      "source": [
        "model.add(tf.keras.layers.LSTM(units = 128, activation=\"tanh\"))"
      ],
      "metadata": {
        "id": "CgLpPC2TeYFC"
      },
      "execution_count": 22,
      "outputs": []
    },
    {
      "cell_type": "code",
      "source": [
        "model.add(tf.keras.layers.Dense(units = 1, activation=\"sigmoid\"))"
      ],
      "metadata": {
        "id": "XLzLKjcUelyM"
      },
      "execution_count": 24,
      "outputs": []
    },
    {
      "cell_type": "code",
      "source": [
        "model.compile(optimizer = 'rmsprop', loss = 'binary_crossentropy', metrics = ['accuracy'])"
      ],
      "metadata": {
        "id": "Mjn6NE6MesNU"
      },
      "execution_count": 26,
      "outputs": []
    },
    {
      "cell_type": "code",
      "source": [
        "model.summary()"
      ],
      "metadata": {
        "colab": {
          "base_uri": "https://localhost:8080/"
        },
        "id": "UyoFz4RMe_N7",
        "outputId": "ef1972e2-b986-4e4b-bdf5-9dd431c2822e"
      },
      "execution_count": 27,
      "outputs": [
        {
          "output_type": "stream",
          "name": "stdout",
          "text": [
            "Model: \"sequential\"\n",
            "_________________________________________________________________\n",
            " Layer (type)                Output Shape              Param #   \n",
            "=================================================================\n",
            " embedding (Embedding)       (None, 100, 128)          2560000   \n",
            "                                                                 \n",
            " lstm (LSTM)                 (None, 128)               131584    \n",
            "                                                                 \n",
            " dense (Dense)               (None, 1)                 129       \n",
            "                                                                 \n",
            "=================================================================\n",
            "Total params: 2691713 (10.27 MB)\n",
            "Trainable params: 2691713 (10.27 MB)\n",
            "Non-trainable params: 0 (0.00 Byte)\n",
            "_________________________________________________________________\n"
          ]
        }
      ]
    },
    {
      "cell_type": "markdown",
      "source": [
        "## 모델 학습"
      ],
      "metadata": {
        "id": "f6GeI8eff41n"
      }
    },
    {
      "cell_type": "code",
      "source": [
        "model.fit(X_train_pad, y_train, epochs = 5, batch_size = 128)"
      ],
      "metadata": {
        "colab": {
          "base_uri": "https://localhost:8080/"
        },
        "id": "kklfSldlfKu0",
        "outputId": "ffc04310-bde0-4559-cedc-0dd59b3780b7"
      },
      "execution_count": 28,
      "outputs": [
        {
          "output_type": "stream",
          "name": "stdout",
          "text": [
            "Epoch 1/5\n",
            "196/196 [==============================] - 31s 118ms/step - loss: 0.5431 - accuracy: 0.7112\n",
            "Epoch 2/5\n",
            "196/196 [==============================] - 12s 63ms/step - loss: 0.3482 - accuracy: 0.8534\n",
            "Epoch 3/5\n",
            "196/196 [==============================] - 7s 38ms/step - loss: 0.2847 - accuracy: 0.8853\n",
            "Epoch 4/5\n",
            "196/196 [==============================] - 5s 22ms/step - loss: 0.2472 - accuracy: 0.9054\n",
            "Epoch 5/5\n",
            "196/196 [==============================] - 5s 26ms/step - loss: 0.2133 - accuracy: 0.9200\n"
          ]
        },
        {
          "output_type": "execute_result",
          "data": {
            "text/plain": [
              "<keras.src.callbacks.History at 0x7d76829ea950>"
            ]
          },
          "metadata": {},
          "execution_count": 28
        }
      ]
    },
    {
      "cell_type": "markdown",
      "source": [
        "## 모델 평가"
      ],
      "metadata": {
        "id": "LV7fbhLBf7Jc"
      }
    },
    {
      "cell_type": "code",
      "source": [
        "test_loss, test_acurracy = model.evaluate(X_test_pad, y_test)\n",
        "print(\"Test accuracy: {}\".format(test_acurracy))"
      ],
      "metadata": {
        "colab": {
          "base_uri": "https://localhost:8080/"
        },
        "id": "sYjxWzD9fpUv",
        "outputId": "32dab3a2-a489-4089-ac55-ec0b78a68868"
      },
      "execution_count": 30,
      "outputs": [
        {
          "output_type": "stream",
          "name": "stdout",
          "text": [
            "782/782 [==============================] - 3s 4ms/step - loss: 0.3733 - accuracy: 0.8475\n",
            "Test accuracy: 0.8474799990653992\n"
          ]
        }
      ]
    }
  ]
}